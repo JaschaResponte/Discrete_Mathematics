{
 "cells": [
  {
   "cell_type": "code",
   "execution_count": 148,
   "id": "1ef8d5f9",
   "metadata": {},
   "outputs": [],
   "source": [
    "from matplotlib_venn import venn2, venn2_circles, venn2_unweighted\n",
    "from matplotlib_venn import venn3, venn3_circles\n",
    "from matplotlib import pyplot as plt\n",
    "import pandas as pd\n",
    "%matplotlib inline"
   ]
  },
  {
   "cell_type": "code",
   "execution_count": 149,
   "id": "6e4f64bc",
   "metadata": {},
   "outputs": [],
   "source": [
    "def drawVenn2(A,B,labels = ('A', 'B')):\n",
    "    '''\n",
    "    listing elements in Venn diagram of two sets\n",
    "    '''\n",
    "    v2=venn2([A,B],set_labels = labels);\n",
    "    v2.get_label_by_id('01').set_text(', '.join(map(str,B-A)))\n",
    "    v2.get_label_by_id('10').set_text(', '.join(map(str,A-B)))\n",
    "    if A&B:\n",
    "        v2.get_label_by_id('11').set_text(', '.join(map(str,A&B)))"
   ]
  },
  {
   "cell_type": "code",
   "execution_count": 150,
   "id": "f918d6a4",
   "metadata": {},
   "outputs": [],
   "source": [
    "def drawVenn3(A,B,C,labels = ('A', 'B', 'C')):\n",
    "    '''\n",
    "    listing elements in Venn diagram of three sets, A, B, C\n",
    "    '''\n",
    "    v3=venn3([A,B,C],set_labels = labels);\n",
    "    if A-B-C:\n",
    "        v3.get_label_by_id('100').set_text('\\n'.join(map(str,A-B-C)))\n",
    "        v3.get_patch_by_id('100').set_alpha(0.6)\n",
    "        v3.get_patch_by_id('100').set_facecolor('Yellow')\n",
    "    if A&B-C:\n",
    "        v3.get_label_by_id('110').set_text('\\n'.join(map(str,A&B-C)))\n",
    "        v3.get_patch_by_id('110').set_alpha(0.3)\n",
    "        v3.get_patch_by_id('110').set_facecolor('Red')\n",
    "    if B-C-A:\n",
    "        v3.get_label_by_id('010').set_text('\\n'.join(map(str,B-C-A)))\n",
    "        v3.get_patch_by_id('010').set_alpha(0.6)\n",
    "        v3.get_patch_by_id('010').set_facecolor('Magenta')\n",
    "    if A&C-B:\n",
    "        v3.get_label_by_id('101').set_text('\\n'.join(map(str,A&C-B)))\n",
    "        v3.get_patch_by_id('101').set_alpha(0.3)\n",
    "        v3.get_patch_by_id('101').set_facecolor('Green')\n",
    "    if A&B&C:\n",
    "        v3.get_label_by_id('111').set_text('\\n'.join(map(str,A&B&C)))\n",
    "        v3.get_patch_by_id('111').set_alpha(0.1)\n",
    "        v3.get_patch_by_id('111').set_facecolor('Black')\n",
    "    if B&C-A:\n",
    "        v3.get_label_by_id('011').set_text('\\n'.join(map(str,B&C-A)))\n",
    "        v3.get_patch_by_id('011').set_alpha(0.3)\n",
    "        v3.get_patch_by_id('011').set_facecolor('Blue')\n",
    "    if C-B-A:\n",
    "        v3.get_label_by_id('001').set_text('\\n'.join(map(str,C-B-A)))\n",
    "        v3.get_patch_by_id('001').set_alpha(0.6)\n",
    "        v3.get_patch_by_id('001').set_facecolor('Cyan')"
   ]
  },
  {
   "cell_type": "markdown",
   "id": "2ac7fd91",
   "metadata": {},
   "source": [
    "# What is a Set?"
   ]
  },
  {
   "cell_type": "markdown",
   "id": "54ba4b2e",
   "metadata": {},
   "source": [
    "1. A set is a well-defined unordered collection of $\\textbf{distinct}$ objects.\n",
    "2. It is denoted by a capital letter, .i.e A.\n",
    "3. The objects in a set is called an item or an element.\n",
    "4. Elements in a set are enclosed by curly braces.\n",
    "5. If an object is an element of a set it is denoted by a $\\in$ symbol. $\\in$ is similar to the in operator in python\n",
    "6. If an object is not an element of a set it is denoted by a $\\notin$ symbol. $\\notin$ is similar to the not in operator in python."
   ]
  },
  {
   "cell_type": "markdown",
   "id": "abc20826",
   "metadata": {},
   "source": [
    "### Examples"
   ]
  },
  {
   "cell_type": "markdown",
   "id": "31c9eeb8",
   "metadata": {},
   "source": [
    "A = {1,2,3,4,5}<br>\n",
    "5 $\\epsilon$ A because 5 is an element of A.\n",
    "<br>\n",
    "<br>\n",
    "A = {x | x is an odd positive integer: x<10}<br>\n",
    "the \"|\" is read as \"such that\", and the \":\" is read as \"where\"."
   ]
  },
  {
   "cell_type": "markdown",
   "id": "e55fca82",
   "metadata": {},
   "source": [
    "### Python Examples"
   ]
  },
  {
   "cell_type": "code",
   "execution_count": 151,
   "id": "e11ac050",
   "metadata": {},
   "outputs": [
    {
     "name": "stdout",
     "output_type": "stream",
     "text": [
      "{2, 3, 4, 8, 12}\n"
     ]
    }
   ],
   "source": [
    "A={3, 4, 8, 12, 8, 2, 3, 4, 12, 3, 4}  # it contains repetitions\n",
    "print(A)                               # Python automatically remove the repetitions and make them distinct"
   ]
  },
  {
   "cell_type": "code",
   "execution_count": 152,
   "id": "adaa6d2a",
   "metadata": {},
   "outputs": [
    {
     "name": "stdout",
     "output_type": "stream",
     "text": [
      "{'apple', 'kiwi', 'cherry', 'banana', 'durian'}\n"
     ]
    }
   ],
   "source": [
    "F={'durian','kiwi','apple', 'banana', 'cherry'}\n",
    "print(F)   # Python automatially reorder in descending order the members of the set"
   ]
  },
  {
   "cell_type": "code",
   "execution_count": 153,
   "id": "9156d558",
   "metadata": {},
   "outputs": [
    {
     "data": {
      "text/plain": [
       "True"
      ]
     },
     "execution_count": 153,
     "metadata": {},
     "output_type": "execute_result"
    }
   ],
   "source": [
    "F={'durian','kiwi','apple', 'banana', 'cherry'}\n",
    "'apple' in F"
   ]
  },
  {
   "cell_type": "code",
   "execution_count": 154,
   "id": "80e0d566",
   "metadata": {},
   "outputs": [
    {
     "name": "stdout",
     "output_type": "stream",
     "text": [
      "False\n",
      "True\n"
     ]
    }
   ],
   "source": [
    "F={'durian','kiwi','apple', 'banana', 'cherry'}\n",
    "print('apple' not in F)\n",
    "print('grape' not in F)"
   ]
  },
  {
   "cell_type": "markdown",
   "id": "81062140",
   "metadata": {},
   "source": [
    "# Universal Sets"
   ]
  },
  {
   "cell_type": "markdown",
   "id": "737fc818",
   "metadata": {},
   "source": [
    "1. The universal set is the set containing all objects or elements for which all other set is a subset.\n",
    "2. it is denoted by $\\textbf{U}$.\n",
    "3. $\\textbf{U}$ is equivalent to the logical value of True.\n",
    "4. A universal set contains a property, denoted as $P(x)$ which describes the characteristics of the elements within $\\textbf{U}$."
   ]
  },
  {
   "cell_type": "markdown",
   "id": "d8b32d4c",
   "metadata": {},
   "source": [
    "### Examples\n",
    "---"
   ]
  },
  {
   "cell_type": "markdown",
   "id": "e7de0437",
   "metadata": {},
   "source": [
    "A = {x | x is an odd positive integer: x<10}<br>\n",
    "A is a universal set because it has a property characterizing the elements of the set A.\n",
    "<br>\n",
    "<br>\n",
    "B = {x|x $\\in$ $\\mathbb{R}$:1$\\leq$ x $\\leq$3}\n"
   ]
  },
  {
   "cell_type": "markdown",
   "id": "9e9e2969",
   "metadata": {},
   "source": [
    "### Python Examples\n"
   ]
  },
  {
   "cell_type": "code",
   "execution_count": 155,
   "id": "f1ebed99",
   "metadata": {},
   "outputs": [
    {
     "data": {
      "text/plain": [
       "{1, 2, 3, 4, 5, 6, 8, 9}"
      ]
     },
     "execution_count": 155,
     "metadata": {},
     "output_type": "execute_result"
    }
   ],
   "source": [
    "A={1,3,6,8}\n",
    "B={2,3,4,5}\n",
    "C={5,8,9}\n",
    "\n",
    "# now we want to find the universal set of the three sets above\n",
    "U=set()\n",
    "U=U.union(A,B,C)\n",
    "U"
   ]
  },
  {
   "cell_type": "code",
   "execution_count": 156,
   "id": "c0a1f730",
   "metadata": {},
   "outputs": [
    {
     "name": "stdout",
     "output_type": "stream",
     "text": [
      "is A subset of U?  True\n",
      "is B subset of U?  True\n",
      "is C subset of U?  True\n",
      "is U subset of U?  True\n",
      "is Empty set subset of U?  True\n"
     ]
    }
   ],
   "source": [
    "print('is A subset of U? ',A.issubset(U))\n",
    "print('is B subset of U? ',B.issubset(U))\n",
    "print('is C subset of U? ',C.issubset(U))\n",
    "print('is U subset of U? ',U.issubset(U))\n",
    "E=set() # empty set\n",
    "print('is Empty set subset of U? ',E.issubset(U))"
   ]
  },
  {
   "cell_type": "markdown",
   "id": "1230d2f9",
   "metadata": {},
   "source": [
    "# Empty Sets"
   ]
  },
  {
   "cell_type": "markdown",
   "id": "8dbcdb21",
   "metadata": {},
   "source": [
    "1. An empty set is also called a null set.\n",
    "2. It is dneoted by $\\emptyset$ or {}.\n",
    "3. It is equivalent to the logical value of False.\n",
    "4. An empty set is always a subset of every other set."
   ]
  },
  {
   "cell_type": "markdown",
   "id": "b5646175",
   "metadata": {},
   "source": [
    "### Theorem on Empty Sets"
   ]
  },
  {
   "cell_type": "markdown",
   "id": "639d9d30",
   "metadata": {},
   "source": [
    "For any set A, $\\emptyset$ $\\subset$ A $\\subset$ $\\textbf{U}$"
   ]
  },
  {
   "cell_type": "markdown",
   "id": "548135c7",
   "metadata": {},
   "source": [
    "### Example"
   ]
  },
  {
   "cell_type": "markdown",
   "id": "4ce6004b",
   "metadata": {},
   "source": [
    "A = {x|x $\\in$ $\\mathbb{Z}$ > 0: $x^{2}$ = 3} = $\\emptyset$.\n",
    "<br>\n",
    "This is an empty set because $x^{2}$ = 3 does not exist for all positive integer (whole numbers)."
   ]
  },
  {
   "cell_type": "markdown",
   "id": "eb720336",
   "metadata": {},
   "source": [
    "### Pythonic Examples"
   ]
  },
  {
   "cell_type": "code",
   "execution_count": 157,
   "id": "08701ecb",
   "metadata": {},
   "outputs": [
    {
     "data": {
      "text/plain": [
       "set()"
      ]
     },
     "execution_count": 157,
     "metadata": {},
     "output_type": "execute_result"
    }
   ],
   "source": [
    "C=set()\n",
    "C"
   ]
  },
  {
   "cell_type": "code",
   "execution_count": 158,
   "id": "96fdb81f",
   "metadata": {},
   "outputs": [
    {
     "data": {
      "text/plain": [
       "{}"
      ]
     },
     "execution_count": 158,
     "metadata": {},
     "output_type": "execute_result"
    }
   ],
   "source": [
    "C={}\n",
    "C"
   ]
  },
  {
   "cell_type": "markdown",
   "id": "6e31fbce",
   "metadata": {},
   "source": [
    "Note: The cardinality of an empty set is zero. That is |$\\emptyset$| = 0"
   ]
  },
  {
   "cell_type": "code",
   "execution_count": 159,
   "id": "0e661794",
   "metadata": {},
   "outputs": [
    {
     "data": {
      "text/plain": [
       "0"
      ]
     },
     "execution_count": 159,
     "metadata": {},
     "output_type": "execute_result"
    }
   ],
   "source": [
    "C={}\n",
    "len(C)"
   ]
  },
  {
   "cell_type": "markdown",
   "id": "c4f56ecd",
   "metadata": {},
   "source": [
    "Note: A set containing zero is not an empty set.\n",
    "<br>\n",
    "Because zero is the element of a set."
   ]
  },
  {
   "cell_type": "code",
   "execution_count": 160,
   "id": "f694eda7",
   "metadata": {},
   "outputs": [
    {
     "data": {
      "text/plain": [
       "1"
      ]
     },
     "execution_count": 160,
     "metadata": {},
     "output_type": "execute_result"
    }
   ],
   "source": [
    "Z={0}\n",
    "len(Z)"
   ]
  },
  {
   "cell_type": "markdown",
   "id": "7365dc61",
   "metadata": {},
   "source": [
    "# Cardinality of Sets"
   ]
  },
  {
   "cell_type": "markdown",
   "id": "e89a26e5",
   "metadata": {},
   "source": [
    "1. Let A be a finite set with n distinct elements, where n$\\geq$0.\n",
    "2. The cardinality of a set is the number of elements of a set.\n",
    "3. |A| = n\n",
    "4. In python this is equivalent to the len() function."
   ]
  },
  {
   "cell_type": "markdown",
   "id": "61f8bea7",
   "metadata": {},
   "source": [
    "### Examples"
   ]
  },
  {
   "cell_type": "markdown",
   "id": "b2a3cd1c",
   "metadata": {},
   "source": [
    "A={'a','b','c','d', 'e', 'f', 'g'}<br>\n",
    "|A| = 7\n",
    "<br>\n",
    "<br>\n",
    "B = {}<br>\n",
    "|B| = 0"
   ]
  },
  {
   "cell_type": "markdown",
   "id": "8e243b4c",
   "metadata": {},
   "source": [
    "### Pythonic Examples"
   ]
  },
  {
   "cell_type": "code",
   "execution_count": 161,
   "id": "49c7841f",
   "metadata": {},
   "outputs": [
    {
     "data": {
      "text/plain": [
       "7"
      ]
     },
     "execution_count": 161,
     "metadata": {},
     "output_type": "execute_result"
    }
   ],
   "source": [
    "A={'a','b','c','d', 'e', 'f', 'g'}\n",
    "len(A)"
   ]
  },
  {
   "cell_type": "code",
   "execution_count": 162,
   "id": "31e452af",
   "metadata": {},
   "outputs": [
    {
     "data": {
      "text/plain": [
       "0"
      ]
     },
     "execution_count": 162,
     "metadata": {},
     "output_type": "execute_result"
    }
   ],
   "source": [
    "A={}\n",
    "len(A)"
   ]
  },
  {
   "cell_type": "markdown",
   "id": "ea71b5bd",
   "metadata": {},
   "source": [
    "# Subsets"
   ]
  },
  {
   "cell_type": "markdown",
   "id": "f3fa15b6",
   "metadata": {},
   "source": [
    "1. If A and B are sets from $\\textbf{U}$, then A is a subset of B, denoted as A$\\subseteq$B iff $\\forall$ elements of A is also an element of B.\n",
    "2. This can be formally denoted as:\n",
    "A $\\subseteq$ B $\\iff$ $\\forall$ x (x $\\in$ A $\\to$ B)\n",
    "3. The cardinality of a finite set:\n",
    "A $\\subseteq$ B$\\to$|A| $\\leq$ |B|\n",
    "4. To determine if set A is a subset of B, use A.issubset(B) or the \"<=\" Operator in python: A<=B\n",
    "5. not a subset is denoted by a $\\nsubseteq$"
   ]
  },
  {
   "cell_type": "markdown",
   "id": "07e63d45",
   "metadata": {},
   "source": [
    "### Theorems on Subsets"
   ]
  },
  {
   "cell_type": "markdown",
   "id": "b659e94f",
   "metadata": {},
   "source": [
    "Let A, B, and C be any set.\n",
    "1. A $\\subseteq$ A\n",
    "2. If A $\\subseteq$ B and B $\\subseteq$ A, then A=B.\n",
    "3. If A $\\subseteq$ B and B $\\subseteq$ C, then A $\\subseteq$ C."
   ]
  },
  {
   "cell_type": "markdown",
   "id": "dc2126d7",
   "metadata": {},
   "source": [
    "### Examples"
   ]
  },
  {
   "cell_type": "markdown",
   "id": "a1c982f0",
   "metadata": {},
   "source": [
    "X = {'a','e','i','o','u'}<br>\n",
    "Y = {'a', 'i', 'u'} <br>\n",
    "Z= {'b','c','d','f','g'}<br>\n",
    "Y $\\subseteq$ X <br>\n",
    "Y $\\nsubseteq$ Z"
   ]
  },
  {
   "cell_type": "markdown",
   "id": "eb5b433a",
   "metadata": {},
   "source": [
    "A = {1, 2, 3}<br>\n",
    "B = {2, 3, 4}<br>\n",
    "A $\\nsubseteq$ B"
   ]
  },
  {
   "cell_type": "markdown",
   "id": "50204344",
   "metadata": {},
   "source": [
    "### Pythonic Examples"
   ]
  },
  {
   "cell_type": "code",
   "execution_count": 163,
   "id": "7ea7142a",
   "metadata": {},
   "outputs": [
    {
     "name": "stdout",
     "output_type": "stream",
     "text": [
      "is Y a subset of X? True\n",
      "is Y a subset of Z? False\n"
     ]
    },
    {
     "data": {
      "image/png": "[encoded data removed]",
      "text/plain": [
       "<Figure size 640x480 with 1 Axes>"
      ]
     },
     "metadata": {},
     "output_type": "display_data"
    }
   ],
   "source": [
    "X = {'a','e','i','o','u'}\n",
    "Y = {'a', 'i', 'u'} \n",
    "Z= {'b','c','d','f','g'}\n",
    "print('is Y a subset of X?',Y.issubset(X))\n",
    "print('is Y a subset of Z?',Y.issubset(Z))\n",
    "drawVenn3(X,Y,Z,labels=('X', 'Y', 'Z'))"
   ]
  },
  {
   "cell_type": "code",
   "execution_count": 164,
   "id": "489f19e7",
   "metadata": {},
   "outputs": [
    {
     "name": "stdout",
     "output_type": "stream",
     "text": [
      "is A a subset of B? False\n"
     ]
    },
    {
     "data": {
      "image/png": "[encoded data removed]",
      "text/plain": [
       "<Figure size 640x480 with 1 Axes>"
      ]
     },
     "metadata": {},
     "output_type": "display_data"
    }
   ],
   "source": [
    "A = {1, 2, 3}\n",
    "B = {2, 3, 4}\n",
    "print('is A a subset of B?',A.issubset(B))\n",
    "drawVenn2(A,B)"
   ]
  },
  {
   "cell_type": "markdown",
   "id": "7a7b085b",
   "metadata": {},
   "source": [
    "# Proper Subsets"
   ]
  },
  {
   "cell_type": "markdown",
   "id": "d16c06b5",
   "metadata": {},
   "source": [
    "1. Suppose A and B are sets. A is a proper subset of B, if A is a subset of B, and there exist at least one element of B that is not in A.\n",
    "2. Formally:\n",
    "A $\\subset$ B $\\iff$ $\\forall$ x $\\exists$ x :(x $\\in$ A $\\to$ x $\\in$ B) $\\land$ $\\exists$ x: (x $\\in$B $\\cap$ x $\\notin$ A).\n",
    "3. In python to check if a set is a proper subset use the \"<\" operator."
   ]
  },
  {
   "cell_type": "markdown",
   "id": "9bb58c91",
   "metadata": {},
   "source": [
    "### Examples"
   ]
  },
  {
   "cell_type": "markdown",
   "id": "fa9cb320",
   "metadata": {},
   "source": [
    "A = {1,3,5} <br>\n",
    "B = {1,5} <br>\n",
    "B $\\subset$ A."
   ]
  },
  {
   "cell_type": "code",
   "execution_count": 165,
   "id": "9155ccd5",
   "metadata": {},
   "outputs": [
    {
     "name": "stdout",
     "output_type": "stream",
     "text": [
      "is A a proper subset of B? True\n"
     ]
    },
    {
     "data": {
      "image/png": "[encoded data removed]",
      "text/plain": [
       "<Figure size 640x480 with 1 Axes>"
      ]
     },
     "metadata": {},
     "output_type": "display_data"
    }
   ],
   "source": [
    "A = {1,3,5}\n",
    "B = {1,5}\n",
    "print('is A a proper subset of B?',B<A)\n",
    "drawVenn2(A,B)"
   ]
  },
  {
   "cell_type": "code",
   "execution_count": 166,
   "id": "803eac8e",
   "metadata": {},
   "outputs": [
    {
     "name": "stdout",
     "output_type": "stream",
     "text": [
      "is A a proper subset of B? False\n"
     ]
    },
    {
     "data": {
      "image/png": "[encoded data removed]",
      "text/plain": [
       "<Figure size 640x480 with 1 Axes>"
      ]
     },
     "metadata": {},
     "output_type": "display_data"
    }
   ],
   "source": [
    "A = {1,3,5}\n",
    "B = {5,3,1}\n",
    "print('is A a proper subset of B?',B<A)\n",
    "drawVenn2(A,B)"
   ]
  },
  {
   "cell_type": "markdown",
   "id": "6fb3a58b",
   "metadata": {},
   "source": [
    "# Transitive Sets"
   ]
  },
  {
   "cell_type": "markdown",
   "id": "0e389c4a",
   "metadata": {},
   "source": [
    "1. Subset operation is transitive. If A is a subset of B and B is a subset of A, then A also is a subset of C.\n",
    "2. (A $\\subseteq$ B) $\\cap$ (B $\\subseteq$ C) $\\to$ (A $\\subseteq$ C)."
   ]
  },
  {
   "cell_type": "markdown",
   "id": "662ac290",
   "metadata": {},
   "source": [
    "### Example"
   ]
  },
  {
   "cell_type": "markdown",
   "id": "c4c98abc",
   "metadata": {},
   "source": [
    "A={5,9}<br>\n",
    "B={1,3,5,7,9}<br>\n",
    "C={1,2,3,4,5,6,7,8,9}<br>\n",
    "It is obvious that (A $\\subseteq$ B), and (B $\\subseteq$ C), hence (A $\\subseteq$ C)"
   ]
  },
  {
   "cell_type": "markdown",
   "id": "9a8087a1",
   "metadata": {},
   "source": [
    "### Pythonic Example"
   ]
  },
  {
   "cell_type": "code",
   "execution_count": 167,
   "id": "cafbfcf9",
   "metadata": {},
   "outputs": [
    {
     "data": {
      "image/png": "[encoded data removed]",
      "text/plain": [
       "<Figure size 640x480 with 1 Axes>"
      ]
     },
     "metadata": {},
     "output_type": "display_data"
    }
   ],
   "source": [
    "A={5,9}\n",
    "B={1,3,5,7,9}\n",
    "C={1,2,3,4,5,6,7,8,9}\n",
    "drawVenn3(A,B,C)"
   ]
  },
  {
   "cell_type": "markdown",
   "id": "45e64cb2",
   "metadata": {},
   "source": [
    "# Supersets"
   ]
  },
  {
   "cell_type": "markdown",
   "id": "90db35a8",
   "metadata": {},
   "source": [
    "1. Suppose A and B are sets from $\\textbf{U}$. If (A $\\subseteq$ B), then (B $\\supseteq$ A).\n",
    "2. Formally denoted as (A $\\subseteq$ B) $\\to$ (B $\\supseteq$ A).\n",
    "3. Python operator is B.issuperset(A) or use the > operator.\n",
    "4. Obviously, |B| > |A|."
   ]
  },
  {
   "cell_type": "markdown",
   "id": "558a2ea0",
   "metadata": {},
   "source": [
    "### Example"
   ]
  },
  {
   "cell_type": "markdown",
   "id": "6bed9ddd",
   "metadata": {},
   "source": [
    "F={'durian','kiwi','apple', 'banana', 'cherry'}<br>\n",
    "G={'apple', 'banana', 'cherry'}<br>\n",
    "(G $\\subseteq$ F) $\\to$ (F $\\supseteq$ G)"
   ]
  },
  {
   "cell_type": "markdown",
   "id": "c9b3d2d9",
   "metadata": {},
   "source": [
    "### Pythonic Examples"
   ]
  },
  {
   "cell_type": "code",
   "execution_count": 168,
   "id": "27aef7c4",
   "metadata": {},
   "outputs": [
    {
     "name": "stdout",
     "output_type": "stream",
     "text": [
      "is F superset of G? True\n"
     ]
    },
    {
     "data": {
      "image/png": "[encoded data removed]",
      "text/plain": [
       "<Figure size 640x480 with 1 Axes>"
      ]
     },
     "metadata": {},
     "output_type": "display_data"
    }
   ],
   "source": [
    "F={'durian','kiwi','apple', 'banana', 'cherry'}\n",
    "G={'apple', 'banana', 'cherry'}\n",
    "\n",
    "drawVenn2(F,G,labels=('F','G'))\n",
    "print('is F superset of G?',F.issuperset(G))"
   ]
  },
  {
   "cell_type": "code",
   "execution_count": 169,
   "id": "faa3bc1c",
   "metadata": {},
   "outputs": [
    {
     "name": "stdout",
     "output_type": "stream",
     "text": [
      "is A a superset of B? False\n"
     ]
    },
    {
     "data": {
      "image/png": "[encoded data removed]",
      "text/plain": [
       "<Figure size 640x480 with 1 Axes>"
      ]
     },
     "metadata": {},
     "output_type": "display_data"
    }
   ],
   "source": [
    "A = {1, 2, 3}\n",
    "B = {2, 3, 4}\n",
    "print('is A a superset of B?', A >= B)\n",
    "drawVenn2(A,B)"
   ]
  },
  {
   "cell_type": "code",
   "execution_count": 170,
   "id": "7bfe77d7",
   "metadata": {},
   "outputs": [
    {
     "name": "stdout",
     "output_type": "stream",
     "text": [
      "is B a superset of A? True\n"
     ]
    },
    {
     "data": {
      "image/png": "[encoded data removed]",
      "text/plain": [
       "<Figure size 640x480 with 1 Axes>"
      ]
     },
     "metadata": {},
     "output_type": "display_data"
    }
   ],
   "source": [
    "A={5,9}\n",
    "B={1,3,5,7,9}\n",
    "print('is B a superset of A?', B >= A)\n",
    "drawVenn2(A,B)"
   ]
  },
  {
   "cell_type": "markdown",
   "id": "21fe310e",
   "metadata": {},
   "source": [
    "# Powersets"
   ]
  },
  {
   "cell_type": "markdown",
   "id": "1b7ed78c",
   "metadata": {},
   "source": [
    "1. Let A be a set in $\\textbf{U}$.\n",
    "2 The power set of A is the set of all subsets in A, denoted as $2^{A}$.\n",
    "3. If |A| = n, then $2^{A}$ has $2^{n}$ elements.\n",
    "4. An $\\emptyset$ is always a subset of any set."
   ]
  },
  {
   "cell_type": "markdown",
   "id": "5a6c7204",
   "metadata": {},
   "source": [
    "### Example"
   ]
  },
  {
   "cell_type": "markdown",
   "id": "a03b8871",
   "metadata": {},
   "source": [
    "A={'x','y','z'}<br>\n",
    "$2^{A}$ = {{}, {'y'}, {'z'}, {'y', 'z'}, {'x'},{'y', 'x'}, {'z', 'x'}, {'y', 'z', 'x'}}"
   ]
  },
  {
   "cell_type": "markdown",
   "id": "c40a7116",
   "metadata": {},
   "source": [
    "### Pythonic Example"
   ]
  },
  {
   "cell_type": "code",
   "execution_count": 171,
   "id": "611d595a",
   "metadata": {},
   "outputs": [],
   "source": [
    "def powerset(A): #define a function\n",
    "    ans = [[]]\n",
    "    for n in A:\n",
    "        ans += [a+[n] for a in ans]\n",
    "    return ans"
   ]
  },
  {
   "cell_type": "code",
   "execution_count": 172,
   "id": "de3b921c",
   "metadata": {},
   "outputs": [
    {
     "data": {
      "text/plain": [
       "[[], ['x'], ['z'], ['x', 'z'], ['y'], ['x', 'y'], ['z', 'y'], ['x', 'z', 'y']]"
      ]
     },
     "execution_count": 172,
     "metadata": {},
     "output_type": "execute_result"
    }
   ],
   "source": [
    "A={'x','y','z'}\n",
    "powerset(A)"
   ]
  },
  {
   "cell_type": "code",
   "execution_count": 173,
   "id": "7aa976a7",
   "metadata": {},
   "outputs": [
    {
     "data": {
      "text/plain": [
       "[[],\n",
       " ['red'],\n",
       " ['blue'],\n",
       " ['red', 'blue'],\n",
       " ['yellow'],\n",
       " ['red', 'yellow'],\n",
       " ['blue', 'yellow'],\n",
       " ['red', 'blue', 'yellow']]"
      ]
     },
     "execution_count": 173,
     "metadata": {},
     "output_type": "execute_result"
    }
   ],
   "source": [
    "X = {'red', 'blue', 'yellow'}\n",
    "powerset(X)"
   ]
  },
  {
   "cell_type": "markdown",
   "id": "f3ada74d",
   "metadata": {},
   "source": [
    "# Cartesian Product"
   ]
  },
  {
   "cell_type": "markdown",
   "id": "0eb53e57",
   "metadata": {},
   "source": [
    "1. The cartesian product of any two sets is the set of all possible ordered pairs in the first element of each ordered pair from the first set, and the second element of the second set.\n",
    "2. A x B = {(a,b)| a$\\in$A $\\cap$ b $\\in$ B}\n",
    "3. A x $\\emptyset$ = $\\emptyset$"
   ]
  },
  {
   "cell_type": "markdown",
   "id": "9e5261a9",
   "metadata": {},
   "source": [
    "### Example"
   ]
  },
  {
   "cell_type": "markdown",
   "id": "1b8567cb",
   "metadata": {},
   "source": [
    "A = {'good', 'bad'}<br>\n",
    "B = {'student', 'prof'}<br>\n",
    "A x B = {{'good', 'prof'}, {'good', 'student'}, {'bad', 'prof'}, {'bad', 'student'}}<br>\n",
    "B x A = {{'student', 'bad'}, {'prof', 'good'}, {'student', 'good'}, {'prof', 'bad'}}"
   ]
  },
  {
   "cell_type": "markdown",
   "id": "292a076c",
   "metadata": {},
   "source": [
    "### Pythonic Example"
   ]
  },
  {
   "cell_type": "code",
   "execution_count": 174,
   "id": "29c60c0b",
   "metadata": {},
   "outputs": [],
   "source": [
    "def cartesianProduct(A,B):\n",
    "    return {(x,y) for x in A for y in B}"
   ]
  },
  {
   "cell_type": "code",
   "execution_count": 175,
   "id": "b1561d8c",
   "metadata": {},
   "outputs": [
    {
     "name": "stdout",
     "output_type": "stream",
     "text": [
      "{('bad', 'student'), ('good', 'student'), ('good', 'prof'), ('bad', 'prof')}\n",
      "{('student', 'bad'), ('student', 'good'), ('prof', 'bad'), ('prof', 'good')}\n"
     ]
    }
   ],
   "source": [
    "A = {'good', 'bad'}\n",
    "B = {'student', 'prof'}\n",
    "print(cartesianProduct(A,B))\n",
    "print(cartesianProduct(B,A))"
   ]
  },
  {
   "cell_type": "markdown",
   "id": "749742b2",
   "metadata": {},
   "source": [
    "# Set Operations\n",
    "---\n",
    "1. Union of Sets.\n",
    "2. Intersection of Sets.\n",
    "3. Disjoint Sets.\n",
    "4. Set Difference.\n",
    "5. Complements\n",
    "6. Symmetric Difference"
   ]
  },
  {
   "cell_type": "markdown",
   "id": "de57482d",
   "metadata": {},
   "source": [
    "## Union of Sets"
   ]
  },
  {
   "cell_type": "markdown",
   "id": "ba00738c",
   "metadata": {},
   "source": [
    "1. The union of A and B returns the set of all elements in either A or B or both.\n",
    "2. This is equivalent to the OR operator.\n",
    "3. Formally denoted as A $\\cup$ B = (x $\\in$ A $\\lor$ x $\\in$ B), where $\\lor$ is read as \"or\".\n",
    "4. Cardinality: | A $\\cup$ B| = |A| + |B| - | A $\\cap$ B|\n",
    "5. In python use the A.union(B) method or the \"|\" operator."
   ]
  },
  {
   "cell_type": "markdown",
   "id": "6270fdb7",
   "metadata": {},
   "source": [
    "### Example"
   ]
  },
  {
   "cell_type": "markdown",
   "id": "b78820bc",
   "metadata": {},
   "source": [
    "X = {'a','b','c','d','e'}<br>\n",
    "Y = {'d','e','f','g'}<br>\n",
    "X $\\cup$ Y = {'g', 'd', 'b', 'c', 'f', 'e', 'a'}"
   ]
  },
  {
   "cell_type": "markdown",
   "id": "f8f32a2f",
   "metadata": {},
   "source": [
    "### Pythonic Example"
   ]
  },
  {
   "cell_type": "code",
   "execution_count": 176,
   "id": "deda347e",
   "metadata": {},
   "outputs": [
    {
     "name": "stdout",
     "output_type": "stream",
     "text": [
      "X|Y = {'e', 'f', 'a', 'g', 'd', 'b', 'c'}\n",
      "Y|X = {'e', 'f', 'g', 'a', 'd', 'b', 'c'}\n"
     ]
    },
    {
     "data": {
      "image/png": "[encoded data removed]",
      "text/plain": [
       "<Figure size 640x480 with 1 Axes>"
      ]
     },
     "metadata": {},
     "output_type": "display_data"
    }
   ],
   "source": [
    "X = {'a','b','c','d','e'}\n",
    "Y = {'d','e','f','g'}\n",
    "print('X|Y =',X|Y)  \n",
    "print('Y|X =',Y.union(X))  # show that union operation is commutative\n",
    "drawVenn2(X,Y,labels=('X','Y'))"
   ]
  },
  {
   "cell_type": "markdown",
   "id": "d3165f28",
   "metadata": {},
   "source": [
    "## Intersection"
   ]
  },
  {
   "cell_type": "markdown",
   "id": "f9c91a3e",
   "metadata": {},
   "source": [
    "1. Set intersection return the set of elements common to both A and B. This is the equivalent to logical operation \"and\".\n",
    "2. A $\\cap$ B = (x $\\in$ A $\\land$ x $\\in$ B), where $\\land$ is read as \"and\".\n",
    "3. Use the A.intersection(B) function, or the ampersand \"&\" operator."
   ]
  },
  {
   "cell_type": "markdown",
   "id": "bb11d001",
   "metadata": {},
   "source": [
    "### Example"
   ]
  },
  {
   "cell_type": "markdown",
   "id": "f32b9b7d",
   "metadata": {},
   "source": [
    "A = {'a','b','c','d','e'}<br>\n",
    "B = {'d','e','f','g'}<br>\n",
    "A $\\cap$ B = {'e', 'd'}"
   ]
  },
  {
   "cell_type": "markdown",
   "id": "5419f8f2",
   "metadata": {},
   "source": [
    "### Pythonic Example"
   ]
  },
  {
   "cell_type": "code",
   "execution_count": 177,
   "id": "df84aa9d",
   "metadata": {},
   "outputs": [
    {
     "name": "stdout",
     "output_type": "stream",
     "text": [
      "X&Y = {'d', 'e'}\n",
      "Y&X = {'d', 'e'}\n"
     ]
    },
    {
     "data": {
      "image/png": "[encoded data removed]",
      "text/plain": [
       "<Figure size 640x480 with 1 Axes>"
      ]
     },
     "metadata": {},
     "output_type": "display_data"
    }
   ],
   "source": [
    "X = {'a','b','c','d','e'}\n",
    "Y = {'d','e','f','g'}\n",
    "print('X&Y =',X&Y)  \n",
    "print('Y&X =',Y&X)  # show that intersection operation is commutative\n",
    "drawVenn2(X,Y,labels=('X','Y'))"
   ]
  },
  {
   "cell_type": "markdown",
   "id": "0952837d",
   "metadata": {},
   "source": [
    "## Disjoint Sets"
   ]
  },
  {
   "cell_type": "markdown",
   "id": "06706b86",
   "metadata": {},
   "source": [
    "1. Two sets are called disjoint if their intersection is empty, that is, they share no common elements.\n",
    "2. A $\\cap$ B = $\\emptyset$\n",
    "3. In python use A.isdisjoint(B) method."
   ]
  },
  {
   "cell_type": "markdown",
   "id": "298cdd37",
   "metadata": {},
   "source": [
    "### Example"
   ]
  },
  {
   "cell_type": "markdown",
   "id": "ab79dc82",
   "metadata": {},
   "source": [
    "A = {1,2,3,4,}<br>\n",
    "B = {6,7,8,9}<br>\n",
    "A $\\cap$ B = $\\emptyset$, no elements in common."
   ]
  },
  {
   "cell_type": "markdown",
   "id": "c3556b35",
   "metadata": {},
   "source": [
    "### Pythonic Example"
   ]
  },
  {
   "cell_type": "code",
   "execution_count": 178,
   "id": "5f097487",
   "metadata": {},
   "outputs": [
    {
     "name": "stdout",
     "output_type": "stream",
     "text": [
      "True\n"
     ]
    },
    {
     "data": {
      "image/png": "[encoded data removed]",
      "text/plain": [
       "<Figure size 640x480 with 1 Axes>"
      ]
     },
     "metadata": {},
     "output_type": "display_data"
    }
   ],
   "source": [
    "X = {1,2,3,4,}\n",
    "Y = {6,7,8,9}\n",
    "print(X.isdisjoint(Y))\n",
    "drawVenn2(X,Y, labels=('X','Y'))"
   ]
  },
  {
   "cell_type": "markdown",
   "id": "bfa55968",
   "metadata": {},
   "source": [
    "## Set Difference"
   ]
  },
  {
   "cell_type": "markdown",
   "id": "aae8c784",
   "metadata": {},
   "source": [
    "1. The difference between two sets A and B contains exactly those elements of A that are not in B.\n",
    "2. A - B = {A|X $\\in$ A $\\land$ x $\\notin$ B}\n",
    "3. Cardinality: |A-B| = |A| - |A $\\cap$ B|\n",
    "4. Use the A.difference(B) or the \"-\" (minus) operator in python.\n",
    "5. Set difference is also relative complement, and are usually denoted by a \\ symbol. Hence, A\\B is read as \"A minus B\"."
   ]
  },
  {
   "cell_type": "markdown",
   "id": "7b3e1167",
   "metadata": {},
   "source": [
    "### Example"
   ]
  },
  {
   "cell_type": "markdown",
   "id": "f1ed744c",
   "metadata": {},
   "source": [
    "X = {'a','b','c','d','e'}<br>\n",
    "Y = {'d','e','f','g'}<br>\n",
    "X-Y = {'c', 'a', 'b'}<br>\n",
    "Y-X = {'g', 'f'}<br>"
   ]
  },
  {
   "cell_type": "markdown",
   "id": "e5e6f1bc",
   "metadata": {},
   "source": [
    "### Pythonic Example"
   ]
  },
  {
   "cell_type": "code",
   "execution_count": 179,
   "id": "0fff6bc9",
   "metadata": {},
   "outputs": [
    {
     "name": "stdout",
     "output_type": "stream",
     "text": [
      "X-Y = {'a', 'b', 'c'}\n",
      "Y-X = {'f', 'g'}\n"
     ]
    },
    {
     "data": {
      "image/png": "[encoded data removed]",
      "text/plain": [
       "<Figure size 640x480 with 1 Axes>"
      ]
     },
     "metadata": {},
     "output_type": "display_data"
    }
   ],
   "source": [
    "X = {'a','b','c','d','e'}\n",
    "Y = {'d','e','f','g'}\n",
    "print('X-Y =',X-Y)  \n",
    "print('Y-X =',Y-X) # show that set difference operation is NOT commutative\n",
    "drawVenn2(X,Y,labels=('X','Y'))"
   ]
  },
  {
   "cell_type": "markdown",
   "id": "1e679283",
   "metadata": {},
   "source": [
    "## Complement"
   ]
  },
  {
   "cell_type": "markdown",
   "id": "7d540719",
   "metadata": {},
   "source": [
    "1. The complement of a set A contains exactly those elements under consideration that are not in A.\n",
    "2. $A^{c}$ = $\\textbf{U}-A$\n",
    "3. As an assignment, show that: $\\textbf{U}^{c}$ = $\\emptyset$"
   ]
  },
  {
   "cell_type": "markdown",
   "id": "5027543d",
   "metadata": {},
   "source": [
    "### Example"
   ]
  },
  {
   "cell_type": "markdown",
   "id": "dbea6192",
   "metadata": {},
   "source": [
    "U = {1,2,3,4,5,6,7,8,9}<br>\n",
    "A = {3,4,5}<br>\n",
    "~A = $A^{c}$ = U-A = {1, 2, 6, 7, 8, 9}"
   ]
  },
  {
   "cell_type": "code",
   "execution_count": 180,
   "id": "a184cfc8",
   "metadata": {},
   "outputs": [
    {
     "name": "stdout",
     "output_type": "stream",
     "text": [
      "U = {'e', 'f', 'a', 'g', 'd', 'b', 'c'}\n",
      "~X = {'f', 'g'}\n",
      "~Y = {'a', 'b', 'c'}\n",
      "~(X|Y) = set()\n",
      "~(X&Y) = {'f', 'a', 'g', 'b', 'c'}\n",
      "~(X^Y) = {'d', 'e'}\n"
     ]
    },
    {
     "data": {
      "image/png": "[encoded data removed]",
      "text/plain": [
       "<Figure size 640x480 with 1 Axes>"
      ]
     },
     "metadata": {},
     "output_type": "display_data"
    }
   ],
   "source": [
    "X = {'a','b','c','d','e'}\n",
    "Y = {'d','e','f','g'}\n",
    "drawVenn2(X,Y,labels=('X','Y'))\n",
    "U = X.union(Y)\n",
    "print('U =',U)                # this is the universal set\n",
    "print('~X =',U-X)             # this is the complement of X\n",
    "print('~Y =',U-Y)             # this is the complement of Y\n",
    "print('~(X|Y) =',U-(X|Y))     # this is the complement of the union\n",
    "print('~(X&Y) =',U-(X&Y))     # this is the complement of the intersection\n",
    "print('~(X^Y) =',U-(X^Y))     # this is the complement of the symmetric difference"
   ]
  },
  {
   "cell_type": "markdown",
   "id": "fa976bf8",
   "metadata": {},
   "source": [
    "## Set Symmetric Difference"
   ]
  },
  {
   "cell_type": "markdown",
   "id": "ad148463",
   "metadata": {},
   "source": [
    "1. Set Symmetric Difference returns the set of all elements in either A or B, but not both. This is the equivalent to logical operation XOR.\n",
    "2. This is denoted by the $\\oplus$ symbol.\n",
    "3. A $\\oplus$ B = (A $\\cup$ B) \\ (A $\\cap$ B) = (A\\B) $\\cup$ (B\\A)"
   ]
  },
  {
   "cell_type": "markdown",
   "id": "5d9d47cf",
   "metadata": {},
   "source": [
    "### Example"
   ]
  },
  {
   "cell_type": "markdown",
   "id": "bb64fe8b",
   "metadata": {},
   "source": [
    "X = {'a','b','c','d','e'}<br>\n",
    "Y = {'d','e','f','g'}<br>\n",
    "X$\\oplus$Y = {'g', 'a', 'b', 'c', 'f'}<br>\n",
    "Y$\\oplus$X = {'g', 'c', 'f', 'a', 'b'}"
   ]
  },
  {
   "cell_type": "markdown",
   "id": "fc8391b2",
   "metadata": {},
   "source": [
    "# Set Identities\n",
    "---\n",
    "1. Identity Laws:\n",
    "- A $\\cup$ $\\emptyset$ = A\n",
    "- A $\\cap$ $\\textbf{U}$ = A\n",
    "<br>\n",
    "2. Dominant Laws:\n",
    "- A $\\cup$ $\\textbf{U}$ = $\\textbf{U}$\n",
    "- A $\\cap$ $\\emptyset$ = $\\emptyset$\n",
    "<br>\n",
    "3. Idempotent Laws:\n",
    "- A $\\cup$ A = A\n",
    "- A $\\cap$ A = A\n",
    "<br>\n",
    "4. Double Negation Law or the Involution Law:\n",
    "- $(A^{c})^{c}$ = $\\neg$($\\neg$A) = A, where \"$\\neg$\" is read as \"logical not\".\n",
    "5. Commutative Laws:\n",
    "- A $\\cup$ B = B $\\cup$ A\n",
    "- A $\\cap$ B = B $\\cap$ A\n",
    "<br>\n",
    "6. Associative Laws:\n",
    "- A $\\cup$ (B $\\cup$ C) = (A $\\cup$B) $\\cup$ C\n",
    "- A $\\cap$ (B $\\cap$ C) = (A $\\cap$ B) $\\cap$ C\n",
    "<br>\n",
    "7. Distributive Laws:\n",
    "- A $\\cap$ (B $\\cup$ C) = (A $\\cap$B) $\\cup$ (A $\\cap$B)\n",
    "- A $\\cup$ (B $\\cap$ C) = A $\\cup$B) $\\cap$ (A $\\cup$B)\n",
    "<br>\n",
    "8. De Morgan's Law:\n",
    "- $\\neg$(A $\\cup$ C) = ($\\neg$A $\\cap$ $\\neg$b) = $(A \\cup C)^{c}$ = ($A^{c}$ $\\cap$ $B^{c}$)\n",
    "- $\\neg$(A $\\cap$ C) = ($\\neg$A $\\cup$ $\\neg$b) = $(A \\cap C)^{c}$ = ($A^{c}$ $\\cup$ $B^{c}$)\n",
    "<br>\n",
    "9. Absorption Laws:\n",
    "- A $\\cup$ (A $\\cap$ B) = A\n",
    "- A $\\cap$ (B $\\cup$ C) = A\n",
    "<br>\n",
    "10. Complement Laws:\n",
    "- A $\\cup$ $\\neg$ A = A $\\cup$ $A^{c}$ =A\n",
    "- A $\\cap$ $\\neg$ A = A $\\cap$ $A^{c}$ =$\\emptyset$\n",
    "- $\\neg$$\\emptyset$ = $\\emptyset^{c}$ = $\\textbf{U}$\n",
    "- $\\neg$$\\textbf{U}$ = $\\textbf{U}^{c}$ = =$\\emptyset$\n",
    "<br>"
   ]
  },
  {
   "cell_type": "markdown",
   "id": "11864680",
   "metadata": {},
   "source": [
    "# Finite Sets and the Inclusion-Exclusion Principles"
   ]
  },
  {
   "cell_type": "markdown",
   "id": "53088e7c",
   "metadata": {},
   "source": [
    "## Finite Sets\n",
    "- A set $S$ is finite $\\iff$ $S=\\emptyset$ or $|S| = n$, it is infinite otherwise.\n",
    "- Hint: A set is countable if its cardinality is finite.\n",
    "- $|A \\cup B| = |A| + |B|$.\n",
    "<br><br><br>\n",
    "## Inclusion-Exclusion Principle\n",
    "- Suppose the sets A and B are finite sets, then $A \\cup B$ and $A \\cap B$ are also finite.\n",
    "- If set A and B are disjoint: $|A \\cup B| = |A| + |B|$\n",
    "- If set A and B are not disjoint: $|A \\cup B| = |A| + |B| - |A \\cap B|$\n",
    "- If set A and B are not joint:$|A \\ B| = |A| - |A \\cap B|$\n",
    "- $|A^c| = |U| + |A|$"
   ]
  },
  {
   "cell_type": "markdown",
   "id": "8d3f5fc2",
   "metadata": {},
   "source": [
    "### Example on Finite Sets"
   ]
  },
  {
   "cell_type": "markdown",
   "id": "629bea40",
   "metadata": {},
   "source": [
    "- If the English alphabet is transformed into a set A, then A is a finite set because it is countable, where $|A| = 26$.\n",
    "<br>\n",
    "<br>\n",
    "- Let $E$ be the set of even positive integers, then $E = {2,4,6,...}$ then E is a \"countably\" infinite set because $|E| \\to \\infty$.\n",
    "<br>\n",
    "<br>\n",
    "- Let $\\textbf{I} = \\{x|0 \\leq x \\leq 1\\}$, then I is an uncountably infinite set $|I| \\to \\infty$."
   ]
  },
  {
   "cell_type": "markdown",
   "id": "ebb204ce",
   "metadata": {},
   "source": [
    "### Example on Inclusion-Exclusion Principle"
   ]
  },
  {
   "cell_type": "markdown",
   "id": "2e9b80c8",
   "metadata": {},
   "source": [
    "- Suppose a list A contains the 30 students in a mathematics class, and a list B contains the 35 students in an English class, and suppose there are 20 names on both lists. Find the number of students:<br> (a) only on list A,<br> (b) only on list B,<br> (c) on list A or B (or both),<br> (d) on exactly one list."
   ]
  },
  {
   "cell_type": "markdown",
   "id": "cb043340",
   "metadata": {},
   "source": [
    "#### Manual Solution\n",
    "---\n",
    "a. List A has 30 students and 35 are on list B, and 20 are in both then $|A \\ B| = |A| - |A \\cap B| = 30-20 =10$.<br><br><br>\n",
    "b. List A has 30 students and 35 are on list B, and 20 are in both then $|B \\ A| = |B| - |A \\cap B| = 35-20 =15$.<br><br><br>\n",
    "c. $|A \\cup B| = |A| + |B| - |A \\cap B| = 30+35-20=45$. In this manner 20 names will appear twice<br><br><br>\n",
    "d. $|A \\oplus B| = |(A \\cup B)| \\setminus |(A \\cap B)| = |(A\\setminus B) \\cup (B\\setminus A)| = |A| + |B| = 10 + 15 = 25$"
   ]
  },
  {
   "cell_type": "code",
   "execution_count": 181,
   "id": "8850306d",
   "metadata": {},
   "outputs": [
    {
     "data": {
      "image/png": "[encoded data removed]",
      "text/plain": [
       "<Figure size 640x480 with 1 Axes>"
      ]
     },
     "metadata": {},
     "output_type": "display_data"
    },
    {
     "name": "stdout",
     "output_type": "stream",
     "text": [
      "List A:  10\n",
      "List B: 15\n",
      "Union of A and B:  45\n",
      "Symmetric Diffence of A and B:  15\n"
     ]
    }
   ],
   "source": [
    "#### Pythonic Solution\n",
    "venn2(subsets = (30, 35, 20), set_labels = ('Mathematics', 'English'))\n",
    "plt.show()\n",
    "print(\"List A: \", 30-20)\n",
    "print(\"List B:\", 35-20)\n",
    "print(\"Union of A and B: \", (30-20)+(35-20)+20)\n",
    "print(\"Symmetric Diffence of A and B: \", (30-20)+(35-30))"
   ]
  },
  {
   "cell_type": "markdown",
   "id": "b62c0e5a",
   "metadata": {},
   "source": [
    "# Partition of Sets"
   ]
  },
  {
   "cell_type": "markdown",
   "id": "a479c343",
   "metadata": {},
   "source": [
    "- Let S be a non-empty set.\n",
    "- A partition of S is the subdivision of S into non-overlapping, non-empty subsets.\n",
    "- Hence the partition of S is a collection of a non-empty subsets $\\{ A_i\\}$ with the following properties:<br><br>\n",
    "1. If $a \\in A_i$ then $a \\in S$.<br><br>\n",
    "2.$A_i \\neq A_j \\neq ... \\neq A_n $. <br><br>\n",
    "3. $\\cap_{i=1}^n A_i = \\emptyset$. <br><br>\n",
    "4. $\\cup_{i=1}^n A_i = S$. <br><br>"
   ]
  },
  {
   "cell_type": "markdown",
   "id": "243f3ba3",
   "metadata": {},
   "source": [
    "More Pythonic Tutorials at:\n",
    "Teknomo.K. (2022) Set Theory in Python http://people.revoledu.com/kardi/tutorial/Python/"
   ]
  },
  {
   "cell_type": "markdown",
   "id": "da59054a",
   "metadata": {},
   "source": [
    "References\n",
    "- Discrete Mathematics with Appications, $4^{th}$, Epp\n",
    "- Essentials of Discrete Mathematics, $3^{rd}$ Edition, Hunter\n",
    "- Schaum's Outline Discrete Mathematics, $3^{rd}$ Edition, Lipchitz & Lipson\n",
    "- Discrete Mathematics and Its Application,$7^{th}$ Rosen\n"
   ]
  },
  {
   "cell_type": "markdown",
   "id": "73c781da",
   "metadata": {},
   "source": [
    "# Sample Exercises"
   ]
  },
  {
   "cell_type": "markdown",
   "id": "f7dc5b56",
   "metadata": {},
   "source": [
    "#### 1 . Sets and Subsets\n",
    "---\n",
    "List the elements of the set, A, where N = {1,2,3,...}:\n",
    "- $\\textbf{A} = \\{x \\in \\mathbb{N}| 3<x<9\\}$ <br>\n",
    "Solution: <br>\n",
    "Given conditions:<br>\n",
    "Lower bound = 3 <br>\n",
    "Upper bound = 9 <br>\n",
    "$\\therefore x$ are any number between 3 and 9. <br>\n",
    "Answer = $\\textbf{A} = \\{4,5,6,7,8\\}$ <br><br><br>\n",
    "List the elements of the set, B, where N = {1,2,3,...}:\n",
    "- $\\textbf{B} = \\{x \\in \\mathbb{N}| x \\ is  \\ even,x<13\\}$ <br>\n",
    "Solution: <br>\n",
    "Given conditions:<br>\n",
    "Lower bound = 1 <br>\n",
    "Upper bound = 13 <br>\n",
    "$\\therefore x$ are any even number less than 13. <br>\n",
    "Answer = $\\textbf{A} = \\{2,4,6,8,10,12\\}$ <br><br><br>\n",
    "List the elements of the set, C where N = {1,2,3,...}:\n",
    "- $\\textbf{C} = \\{x \\in \\mathbb{N}| 4+x = 3\\}$ <br>\n"
   ]
  },
  {
   "cell_type": "markdown",
   "id": "aaacafe0",
   "metadata": {},
   "source": [
    "#### 2. Set Operations\n",
    "---\n",
    "Given:<br>\n",
    "$\\textbf{A} = {1,2,3,4,5}$<br>\n",
    "$\\textbf{B} = {4,5,6,7}$<br>\n",
    "$\\textbf{C} = {5,6,7,8,9}$<br>\n",
    "$\\textbf{D} = {1,3,5,7,9}$<br>\n",
    "$\\textbf{E} = {2,4,6,8}$<br>\n",
    "$\\textbf{F} = {1,5,9}$<br>\n",
    "- What is the universal set?\n",
    "- What is the union of all sets?\n",
    "- $\\textbf{A} \\cup \\textbf{B}$\n",
    "- $\\textbf{C} \\cap \\textbf{D}$\n",
    "- $\\textbf{D}^c$\n",
    "<br>\n",
    "Solution:\n",
    "1. The universal set is all the disctinct elements bounded by the universe.<br>\n",
    "$\\textbf{U} = \\{ \\emptyset, 1,2,3,4,5,6,7,8,9\\}$<br>\n",
    "2. The union of set is denoted by: $\\textbf{A} \\cup \\textbf{B} \\cup \\textbf{C} \\cup \\textbf{D} \\cup \\textbf{E} \\cup \\textbf{F}$.<br>\n",
    "By definition, the union of A and B returns the set of all elements in either A or B or both.\n",
    "$\\therefore$ $\\textbf{A} \\cup \\textbf{B} \\cup \\textbf{C} \\cup \\textbf{D} \\cup \\textbf{E} \\cup \\textbf{F} = \\{1,2,3,4,5,6,7,8,9\\}$<br>\n",
    "3. By definition, the union of A and B returns the set of all elements in either A or B or both. $\\therefore, \\textbf{A} \\cup \\textbf{B} = \\{1,2,3,4,5,6,7\\}$.\n",
    "4. By definition: intersection return the set of elements common to both C and D. $\\therefore \\textbf{C} \\cap \\textbf{D} = \\{5,6,7,8,9\\} \\cap \\{1,3,5,7,9 \\} = {5,7,9}$\n",
    "5. By definition of a complement:<br> \n",
    "      - The complement of a set D contains exactly those elements under consideration that are not in D.\n",
    "      - $D^{c}$ = $\\textbf{U}-D = \\{ \\emptyset, 1,2,3,4,5,6,7,8,9\\} - \\{1,3,5,7,9\\} = \\{ \\emptyset,2,4,6,8\\}$"
   ]
  },
  {
   "cell_type": "markdown",
   "id": "8f766ad9",
   "metadata": {},
   "source": [
    "#### 4. Proving Identities\n",
    "---\n",
    "Given: A, B, and C are sets, $\\exists$ x such that (x $\\in$ A $\\land$ x $\\in$ B $\\land$ x $\\in$ C)<br>\n",
    "Show that:$A \\cap (B \\cup C) = (A \\cap B) \\cup (A \\cap C)$<br>\n",
    "Solution: (Hint prove the membership of $x$)<br>\n",
    "Left Side:<br>\n",
    "- if $x \\in B \\land x \\in C$, then $x \\in (B \\cup C)$. But if $x \\notin B \\land x \\in C$, then still $x \\in (B \\cup C)$. But if $x \\in B \\land x \\notin C$, then still $x \\in (B \\cup C)$.\n",
    "- $x \\in A \\land x \\in (B \\cup C)$, then $\\exists x$ s.t. (x $\\in$ A $\\land$ x $\\in$ B $\\land$ x $\\in$ C)\n",
    "<br>\n",
    "Right Side:<br>\n",
    "- if $x \\in A$ then $x \\in (A \\cap B)$.\n",
    "- if $x \\in A$ then $x \\in (A \\cap C)$.\n",
    "- $(A \\cap B) \\cup (A \\cap C)$ must contain $x$, such that (x $\\in$ A $\\land$ x $\\in$ B $\\land$ x $\\in$ C) ."
   ]
  },
  {
   "cell_type": "markdown",
   "id": "1666d354",
   "metadata": {},
   "source": [
    "#### 4. Finite Sets and The Counting Principles\n",
    "Each student in Liberal Arts at some college has a mathematics requirement A and a science requirement B. A poll of 140 sophomore students shows that:<br>\n",
    "60 completed A,<br> \n",
    "45 completed B,<br> \n",
    "20 completed both A and B.<br> \n",
    "Use a Venn diagram to find the number of students who have completed: <br>(a) At least one of A and B.\n",
    "Solution:<br>\n",
    "Given:<br>\n",
    "- $|A| = 60$\n",
    "- $|B| = 45$\n",
    "- $|A \\cap B| = 20$\n",
    "- $|\\textbf{U}| = 140  $\n",
    "- The problem states that we need to look for students that has finished at least one of A and B. Emphasis on the word $\\textbf{\"least\"}$, so the maximum requirement is that the student either finished A only, B only, or both. Hence, the problem is looking for the union.<br>\n",
    "- $|A \\cup B| = |A| + |B| - |A \\cap B| = 60+45-20 =85$\n",
    "<br>\n",
    "(b) exactly one of A or B.\n",
    "- Emphasis on the word $\\textbf{\"exactly\"}$ and the word $\\textbf{or}$. This indicates that the student finished A only or B only but not both. This is a symmetric difference.\n",
    "- The symmetric difference is: A $\\oplus$ B = (A $\\cup$ B) \\ (A $\\cap$ B) = (A\\B) $\\cup$ (B\\A)\n",
    "- $|A\\backslash B| = |A| - |A \\cap B| = 60 - 20 = 40$\n",
    "- $|B\\backslash A| = |B| - |A \\cap B| = 45 - 20 = 25$\n",
    "- |A $\\oplus$ B| = |(A\\B) $\\cup$ (B\\A)| = |(A\\B)| + |(B\\A)| = 40 + 25 = 65\n",
    "<br>\n",
    "(c) neither A nor B<br>\n",
    "- The problem states to look for students that did not finish A \"nor\" B, emphasis on the word $\\textbf{\"nor\"}$. Obviously, these are students that did not take both subjects, this is the complement of the union, $(A \\cup B)^c$.\n",
    "- $(A \\cup B)^c=|\\textbf{U}|-|A|-|B|-|A \\cap B| = 140 - (60-20) - (45-20) - 20 = 140 - 40 - 25 -20 = 55$."
   ]
  },
  {
   "cell_type": "code",
   "execution_count": 182,
   "id": "b3a7ce27",
   "metadata": {},
   "outputs": [
    {
     "data": {
      "image/png": "[encoded data removed]",
      "text/plain": [
       "<Figure size 640x480 with 1 Axes>"
      ]
     },
     "metadata": {},
     "output_type": "display_data"
    },
    {
     "name": "stdout",
     "output_type": "stream",
     "text": [
      "List A:  40\n",
      "List B: 25\n",
      "Union of A and B:  85\n",
      "Symmetric Diffence of A and B:  65\n",
      "Complement of A and B:  55\n"
     ]
    }
   ],
   "source": [
    "##### Pythonic Solution\n",
    "\n",
    "venn2(subsets = (60, 45, 20), set_labels = ('A', 'B'))\n",
    "plt.show()\n",
    "print(\"List A: \", 60-20)\n",
    "print(\"List B:\", 45 -20)\n",
    "print(\"Union of A and B: \", (60-20)+(45-20)+20)\n",
    "print(\"Symmetric Diffence of A and B: \", (60-20)+(45-20))\n",
    "print(\"Complement of A and B: \", 140-(60-20)-(45-20)-20)"
   ]
  },
  {
   "cell_type": "markdown",
   "id": "50c6f1c3",
   "metadata": {},
   "source": [
    "# Assignment\n",
    "---\n",
    "<strong>Instructions:\n",
    "1. You may use all the resources you can find (google, stackoverflow, googlebard, chatgpt) to answer the questions [resourcefulness is the key].\n",
    "2. Search \"How to write equations in jupyter notebook\".\n",
    "3. Use https://oeis.org/wiki/List_of_LaTeX_mathematical_symbols as a guide to create mathematical symbols.\n",
    "4. Recycle the codes in this notebook, in cases where more than 3 circles will be used use the library pyvenn, and develope a code that will show more than 3 circles in a venn diagram.\n",
    "5. pyvenn: https://pypi.org/project/venn/.\n",
    "6. In your github account create a folder named set_theory.\n",
    "7. Create a different jupyter notebook for your solutions, the filename should be set_theory.ipynb\n",
    "8. Push your solutions to your github account."
   ]
  },
  {
   "cell_type": "markdown",
   "id": "92e1b34a",
   "metadata": {},
   "source": [
    "# 1. Proving Identities\n",
    "---\n",
    "#### Use Latex programming to show your solutions.\n",
    "#### Be Resourceful, use the internet.\n",
    "Given: A and B are sets, $\\exists$ x such that (x $\\in$ A $\\land$ x $\\in$ B)<br>\n",
    "Show that:\n",
    "- A\\B = A $\\cap$ $B^{c}$ \n",
    "$\\\\A = \\left \\{1,3,5,6,7\\right \\}\\\\\n",
    "B = \\left \\{2,4,6\\right \\}\\\\\n",
    "A\\setminus B = \\left \\{ 1,3,5,7 \\right \\}\\\\\n",
    "A\\cap {B}' = \\left \\{1,3,5,6,7\\right \\} \\cap \\left \\{1,3,5,7\\right \\} = \\left \\{1,3,5,7\\right \\}\\\\\n",
    "{B}' = \\left \\{1,3,5,7\\right \\}\\\\\n",
    "\\therefore A\\setminus B = A\\cap {B}'$\n",
    "- B = (B $\\cap$ A) $\\cup$ (B $\\cap$ $A^{c}$)\n",
    "$\\\\B = \\left ( B \\cap A  \\right ) \\cup \\left ( B \\cap A{}' \\right )\\\\\n",
    "\\left \\{ 2,4,6 \\right \\} = \\left ( \\left \\{ 6 \\right \\} \\right ) \\cup  \\left ( \\left \\{ 2,4,6 \\right \\}  \\cap \\left \\{ 2,4 \\right \\}\\right )\\\\\n",
    "\\left \\{ 2,4,6 \\right \\} = \\left ( \\left \\{ 6 \\right \\} \\right )\\cup \\left ( \\left \\{ 2,4 \\right \\} \\right )\\\\\n",
    "\\left \\{ 2,4,6 \\right \\} = \\left \\{ 2,4,6 \\right \\}\\\\\n",
    "\\therefore B = (B \\cap A) \\cup (B \\cap A^{c})$\n",
    "\n",
    "- B\\A = B $\\cap$ $A^{c}$\n",
    "$\\\\\\left \\{ 2,4 \\right \\} = \\left \\{ 2,4,6 \\right \\}\\cap \\left \\{ 2,4 \\right \\}\\\\\n",
    "\\left \\{ 2,4 \\right \\} = \\left \\{ 2,4 \\right \\}\\\\\n",
    "\\therefore B\\setminus A = B\\cap A{}'$\n",
    "\n",
    "- A $\\cup$ B = A $\\cup$ (B $\\cap$ $A^{c}$)\n",
    "$\\\\\\left \\{ 1,2,3,4,5,6,7 \\right \\} = \\left \\{ 1,3,5,6,7 \\right \\} \\cup \\left ( \\left \\{ 2,4,6 \\right \\} \\cap  \\left \\{ 2,4 \\right \\}\\right )\\\\\n",
    "\\left \\{ 1,2,3,4,5,6,7 \\right \\} = \\left \\{ 1,3,5,6,7 \\right \\} \\cup \\left \\{ 2,4 \\right \\}\\\\\n",
    "\\left \\{ 1,2,3,4,5,6,7 \\right \\} = \\left \\{ 1,2,3,4,5,6,7 \\right \\}\\\\\n",
    "\\therefore A \\cup B = A\\cup  \\left ( B\\cap A{}' \\right )$\n",
    "\n",
    "- $(\\textbf{U}_{i=1}^{\\infty} A_{i}^{c})^{c}$ = $\\cap_{i=1}^{\\infty}A_{i}$\n",
    "- |A $\\cup$ B| = |A| + |B| - |A $\\cap$ B|\n",
    "$\\\\7=5+3-1\\\\\n",
    "7=7\\\\\n",
    "\\therefore \\left | A \\cup B \\right |=\\left | A \\right |+\\left | B \\right |-\\left | A\\cap B \\right |$\n"
   ]
  },
  {
   "cell_type": "markdown",
   "id": "01f00f0b",
   "metadata": {},
   "source": [
    "# 2. Sets and Subsets\n",
    "---\n",
    "#### Use Latex Programming to show your solutions.\n",
    "- **A**: If A = {2,3,4,5}, and B = {$x \\in \\mathbb{N} | x \\ is \\ even$}. Is A $\\subset$ B? Show a proof.\n",
    "- **B**: Let sets $\\textbf{A} = \\{x|x \\in \\mathbb{Z}, 0 \\leq x \\leq 9\\},\n",
    "\\textbf{B} = \\{ 2,4,6,8\\},\n",
    "\\ and \\ \n",
    "\\textbf{C}  = \\{ 1,3,5,7,9\\}\n",
    "\\ and \\ \\textbf{D}  = \\{ 3,4,5\\}$\n",
    "Find a set $\\textbf{X}$ which will satisfy the following conditions:\n",
    "    1. $\\textbf{X} \\ and \\ \\textbf{B}$ are disjoint.\n",
    "    2. $\\textbf{X} \\subseteq \\textbf{D}$ but $\\textbf{X} \\nsubseteq \\textbf{B}$.\n",
    "    3. $\\textbf{X} \\subseteq \\textbf{A}$ but $\\textbf{X} \\not\\subset \\textbf{C}$.\n",
    "\n",
    "**Answer A**: If B contains all even natural numbers, A cannot be a subset of B since iA contains odd numbres. For example, 3 in set A is not an even number and therefore cannot be an element of B.\n",
    "\n",
    "$A \\cap B \\subset B $ but $A$ is not $\\subset B$\n"
   ]
  },
  {
   "cell_type": "code",
   "execution_count": 187,
   "id": "5108b505",
   "metadata": {},
   "outputs": [
    {
     "data": {
      "image/png": "[encoded data removed]",
      "text/plain": [
       "<Figure size 640x480 with 1 Axes>"
      ]
     },
     "metadata": {},
     "output_type": "display_data"
    }
   ],
   "source": [
    "# %load assets/sets_subsets.py\n",
    "from matplotlib_venn import venn2\n",
    "from matplotlib import pyplot as plt\n",
    "\n",
    "set_A = {\"2\",\"3\",\"4\",\"5\"}\n",
    "set_B = {\"2\",\"4\",\"6\",\"8\",\"10\"} #limiting to 10 here for the sake of demonstration\n",
    "\n",
    "\n",
    "venn = venn2([set_A,set_B], set_labels=('A', 'B'))\n",
    "venn.get_label_by_id(\"10\").set_text('\\n'.join(set_A - set_B))\n",
    "venn.get_label_by_id(\"11\").set_text('\\n'.join(set_A & set_B))\n",
    "venn.get_label_by_id(\"01\").set_text('\\n'.join(set_B - set_A))\n",
    "\n",
    "plt.title(\"Sets A and B\")\n",
    "plt.show()"
   ]
  },
  {
   "cell_type": "markdown",
   "id": "00c42976",
   "metadata": {},
   "source": [
    "**Answer B:** \n",
    "1. $\\textbf{X} \\ and \\ \\textbf{B}$ are disjoint.\n",
    "$\\\\ X = \\left \\{ 0,1,3,5,7,9 \\right \\} \\\\\n",
    "X \\cap B = \\left \\{ 0,1,3,5,7,9 \\right \\} \\cap B = \\left \\{ 2,4,6,8 \\right \\} = \\emptyset $\n",
    "2. $\\textbf{X} \\subseteq \\textbf{D}$ but $\\textbf{X} \\nsubseteq \\textbf{B}$.\n",
    "$\\\\ X = \\left \\{ 3,5 \\right \\} $\n",
    "3. $\\textbf{X} \\subseteq \\textbf{A}$ but $\\textbf{X} \\not\\subset \\textbf{C}$.\n",
    "$\\\\ X = \\left \\{ 0,2,4,6,8 \\right \\}$"
   ]
  },
  {
   "cell_type": "markdown",
   "id": "9bba9fd3",
   "metadata": {},
   "source": [
    "# 3. Set Operations\n",
    "---\n",
    "#### Use this website https://learnpython.com/blog/set-operations-in-python/ to learn about set Operations in Python.\n",
    "##### 1. First solve the problems manually, use Latex programming to show your manual solutions.\n",
    "\n",
    "##### 2. Second, solve the problem using python. Show your codes for the pythonic solutions.\n",
    "##### Hint: You know your solutions is right if your manual solution is equivalent to your pythonic solution.\n",
    "\n",
    "Given:<br>\n",
    "$\\textbf{U} = \\{1,2,3,4,5\\}$<br>\n",
    "$\\textbf{A} = \\{1,2,3,4,5\\}$<br>\n",
    "$\\textbf{B} = \\{4,5,6,7\\}$<br>\n",
    "$\\textbf{C} = \\{5,6,7,8,9\\}$<br>\n",
    "$\\textbf{D} = \\{1,3,5,7,9\\}$<br>\n",
    "$\\textbf{E} = \\{2,4,6,8\\}$<br>\n",
    "$\\textbf{F} = \\{1,5,9\\}$<br>\n",
    "- $\\textbf{C} \\oplus \\textbf{D}$\n",
    "$\\\\C = \\left \\{ 5,8,6,7,9 \\right \\}\\\\\n",
    "D = \\left \\{ 1,3,5,7,9 \\right \\}\\\\\n",
    "C \\oplus D = \\left ( C \\cup D \\right ) \\setminus \\left ( C \\cap D \\right )\\\\\n",
    "C \\oplus D = \\left ( C \\setminus D \\right ) \\cup \\left ( D \\setminus C \\right )\\\\\n",
    "C \\oplus D = \\left \\{ 1,3,6,8 \\right \\}$\n",
    "- $\\textbf{A} \\backslash \\textbf{B}$\n",
    "$\\\\A = \\left \\{ 1,2,3,4,5 \\right \\}\\\\\n",
    "B = \\left \\{ 4,5,6,7,8 \\right \\} \\\\\n",
    "A - B = \\left \\{ 1,2,3 \\right \\}$\n",
    "- $\\textbf{B} \\backslash \\textbf{A}$\n",
    "$\\\\A = \\left \\{ 1,2,3,4,5 \\right \\}\\\\\n",
    "B = \\left \\{ 4,5,6,7 \\right \\} \\\\\n",
    "B - A = \\left \\{ 6,7 \\right \\}$\n",
    "- $\\textbf{E} \\oplus \\textbf{F}$\n",
    "$\\\\E = \\left \\{ 2,4,6,8 \\right \\}\\\\\n",
    "F = \\left \\{ 1,5,9 \\right \\}\\\\\n",
    "E \\oplus F = \\left ( E \\cup F \\right ) \\setminus \\left ( E \\cap F \\right )\\\\\n",
    "E \\oplus F = \\left ( E \\setminus F \\right ) \\cup \\left ( F \\setminus E \\right )\\\\\n",
    "E \\oplus F = \\left \\{ 1,2,4,5,6,8,9 \\right \\}$"
   ]
  },
  {
   "cell_type": "code",
   "execution_count": 188,
   "id": "980e893f",
   "metadata": {},
   "outputs": [
    {
     "name": "stdout",
     "output_type": "stream",
     "text": [
      "C⊕D =  {8, 1, 3, 6}\n",
      "A\\B =  {1, 2, 3, 6, 7}\n",
      "B\\A =  {1, 2, 3, 6, 7}\n",
      "E⊕F =  {1, 2, 4, 5, 6, 8, 9}\n"
     ]
    }
   ],
   "source": [
    "# %load assets/set_operations.py\n",
    "#Create functions to find complements, disjoint unions, and symmetric differences\n",
    "def complement(A):\n",
    "    return universal.difference(A)\n",
    "\n",
    "def disjointUnion(A,B):\n",
    "    return (A.union(B)).difference(A.intersection(B))\n",
    "\n",
    "def symmetricDifference(A,B):\n",
    "    return A.union(complement(B)).difference(A.intersection(B))\n",
    "\n",
    "\n",
    "#define sets\n",
    "universal = {1,2,3,4,5,6,7,8,9}\n",
    "U = {1,2,3,4,5}\n",
    "A = {1,2,3,4,5}\n",
    "B = {4,5,6,7}\n",
    "C = {5,6,7,8,9}\n",
    "D = {1,3,5,7,9}\n",
    "E = {2,4,6,8}\n",
    "F = {1,5,9}\n",
    "\n",
    "# print results using functions by passing sets as parameters\n",
    "print(\"C⊕D = \", disjointUnion(C,D))\n",
    "print(\"A\\B = \", disjointUnion(A,B))\n",
    "print(\"B\\A = \", disjointUnion(B,A))\n",
    "print(\"E⊕F = \", disjointUnion(E,F))"
   ]
  },
  {
   "cell_type": "markdown",
   "id": "65991b97",
   "metadata": {},
   "source": [
    "# 4. Finite Sets and The Counting Principles\n",
    "---\n",
    "\n",
    "In a Survey of 120 People, it was found that:\n",
    "- 65 read Newsweek Magazine\n",
    "- 45 read Times Magazine\n",
    "- 42 read Fortune Magazine\n",
    "- 20 read Both Newsweek and Time\n",
    "- 25 read both Newsweek and Fortune\n",
    "- 15 read both Time and Fortune\n",
    "- 8 read all three magazines\n",
    "With these information do the following:<br>\n",
    "1. Draw the venn diagram using python.\n",
    "2. Find the number of people who read at $\\textbf{\"least one\"}$ of the three magazines.\n",
    "3. Find the number of people who read exactly one magazine.\n",
    "<br>\n",
    "<br>\n",
    "In a survey of 25 new cars being sold at a local auto dealer was conducted to see which of the three popular options: air-conditioning, denoted as A; radio, denoted as R; and power windows, denoted as W were installed. The survey found that:\n",
    "- 15 had A. HINT: The condition said $\\textbf{\"had an A\"}$  <font color='red'>$\\textbf{ AND NOT}$ <font color='black'>$\\textbf{\"had an A only\"}$\n",
    "- 12 had R. HINT: The condition said $\\textbf{\"had a R\"}$  <font color='red'>$\\textbf{ AND NOT}$ <font color='black'>$\\textbf{\"had a R only\"}$\n",
    "- 11 had W. HINT: The condition said $\\textbf{\"had a W\"}$  <font color='red'>$\\textbf{ AND NOT}$ <font color='black'>$\\textbf{\"had a W only\"}$\n",
    "- 5 had A and W.\n",
    "- 9 had A and R.\n",
    "- 4 had R and W.\n",
    "- Only 3 hace the three options.\n",
    "With these information do the following:<br>\n",
    "1. Draw the venn diagram using python.<br>\n",
    "2. Find the number of cars with W only.<br>\n",
    "3. Find the number of cars with A only.<br>\n",
    "4. Find the number of cars with R only.<br>\n",
    "5. Find the number of cars with both R and W but not A.<br>\n",
    "6. Find the number of cars with both A and R but not W.<br>\n",
    "7. Find the number of cars with only one of the options.<br>\n",
    "8. Find the number of cars with at least one option.<br>\n",
    "9. Find the number of cars with none of the Options.<br>"
   ]
  },
  {
   "cell_type": "code",
   "execution_count": 190,
   "id": "daddab0a",
   "metadata": {},
   "outputs": [
    {
     "data": {
      "image/png": "[encoded data removed]",
      "text/plain": [
       "<Figure size 640x480 with 1 Axes>"
      ]
     },
     "metadata": {},
     "output_type": "display_data"
    }
   ],
   "source": [
    "# %load assets/cars.py\n",
    "from matplotlib_venn import venn3\n",
    "from matplotlib import pyplot as plt\n",
    "\n",
    "set_A = 15\n",
    "set_R = 12\n",
    "set_W = 11\n",
    "set_AW = 5\n",
    "set_AR = 9\n",
    "set_RW = 4\n",
    "set_ARW = 3\n",
    "\n",
    "venn = venn3(subsets=(set_A - set_AW - set_AR + set_ARW, set_R - set_AR - set_RW + set_ARW, set_AR - set_ARW,\n",
    "                      set_W - set_AW - set_RW + set_ARW, set_RW - set_ARW, set_AW - set_ARW, set_ARW),\n",
    "             set_labels=('A', 'R', 'W'))\n",
    "\n",
    "plt.title(\"Cars Survey\")\n",
    "plt.show()"
   ]
  },
  {
   "cell_type": "code",
   "execution_count": null,
   "id": "59bab440",
   "metadata": {},
   "outputs": [],
   "source": []
  }
 ],
 "metadata": {
  "kernelspec": {
   "display_name": "Python 3 (ipykernel)",
   "language": "python",
   "name": "python3"
  },
  "language_info": {
   "codemirror_mode": {
    "name": "ipython",
    "version": 3
   },
   "file_extension": ".py",
   "mimetype": "text/x-python",
   "name": "python",
   "nbconvert_exporter": "python",
   "pygments_lexer": "ipython3",
   "version": "3.11.5"
  }
 },
 "nbformat": 4,
 "nbformat_minor": 5
}
