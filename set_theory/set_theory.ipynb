{
 "cells": [
  {
   "cell_type": "markdown",
   "metadata": {},
   "source": [
    "# Assignment\n",
    "---\n",
    "<strong>Instructions:\n",
    "1. You may use all the resources you can find (google, stackoverflow, googlebard, chatgpt) to answer the questions [resourcefulness is the key].\n",
    "2. Search \"How to write equations in jupyter notebook\".\n",
    "3. Use https://oeis.org/wiki/List_of_LaTeX_mathematical_symbols as a guide to create mathematical symbols.\n",
    "4. Recycle the codes in this notebook, in cases where more than 3 circles will be used use the library pyvenn, and develope a code that will show more than 3 circles in a venn diagram.\n",
    "5. pyvenn: https://pypi.org/project/venn/.\n",
    "6. In your github account create a folder named set_theory.\n",
    "7. Create a different jupyter notebook for your solutions, the filename should be set_theory.ipynb\n",
    "8. Push your solutions to your github account."
   ]
  },
  {
   "cell_type": "markdown",
   "metadata": {},
   "source": [
    "# 1. Proving Identities\n",
    "---\n",
    "#### Use Latex programming to show your solutions.\n",
    "#### Be Resourceful, use the internet.\n",
    "Given: A and B are sets, $\\exists$ x such that (x $\\in$ A $\\land$ x $\\in$ B)<br>\n",
    "Show that:\n",
    "- A\\B = A $\\cap$ $B^{c}$ \n",
    "\n",
    "$\\\\A = \\left \\{1,3,5,6,7\\right \\}$\n",
    "\n",
    "$B = \\left \\{2,4,6\\right \\}$\n",
    "\n",
    "$A\\setminus B = \\left \\{ 1,3,5,7 \\right \\}$\n",
    "\n",
    "$A\\cap {B}' = \\left \\{1,3,5,6,7\\right \\} \\cap \\left \\{1,3,5,7\\right \\} = \\left \\{1,3,5,7\\right \\}$\n",
    "\n",
    "${B}' = \\left \\{1,3,5,7\\right \\}$\n",
    "\n",
    "$\\therefore A\\setminus B = A\\cap {B}'$\n",
    "\n",
    "- B = (B $\\cap$ A) $\\cup$ (B $\\cap$ $A^{c}$)\n",
    "\n",
    "$\\\\B = \\left ( B \\cap A  \\right ) \\cup \\left ( B \\cap A{}' \\right )$\n",
    "\n",
    "$\\left \\{ 2,4,6 \\right \\} = \\left ( \\left \\{ 6 \\right \\} \\right ) \\cup  \\left ( \\left \\{ 2,4,6 \\right \\}  \\cap \\left \\{ 2,4 \\right \\}\\right )$\n",
    "\n",
    "$\\left \\{ 2,4,6 \\right \\} = \\left ( \\left \\{ 6 \\right \\} \\right )\\cup \\left ( \\left \\{ 2,4 \\right \\} \\right )$\n",
    "\n",
    "$\\left \\{ 2,4,6 \\right \\} = \\left \\{ 2,4,6 \\right \\}$\n",
    "\n",
    "$\\therefore B = (B \\cap A) \\cup (B \\cap A^{c})$\n",
    "\n",
    "- B\\A = B $\\cap$ $A^{c}$\n",
    "\n",
    "$\\\\\\left \\{ 2,4 \\right \\} = \\left \\{ 2,4,6 \\right \\}\\cap \\left \\{ 2,4 \\right \\}$\n",
    "\n",
    "$\\left \\{ 2,4 \\right \\} = \\left \\{ 2,4 \\right \\}$\n",
    "\n",
    "$\\therefore B\\setminus A = B\\cap A{}'$\n",
    "\n",
    "- A $\\cup$ B = A $\\cup$ (B $\\cap$ $A^{c}$)\n",
    "\n",
    "$\\\\\\left \\{ 1,2,3,4,5,6,7 \\right \\} = \\left \\{ 1,3,5,6,7 \\right \\} \\cup \\left ( \\left \\{ 2,4,6 \\right \\} \\cap  \\left \\{ 2,4 \\right \\}\\right )$\n",
    "\n",
    "$\\left \\{ 1,2,3,4,5,6,7 \\right \\} = \\left \\{ 1,3,5,6,7 \\right \\} \\cup \\left \\{ 2,4 \\right \\}$\n",
    "\n",
    "$\\left \\{ 1,2,3,4,5,6,7 \\right \\} = \\left \\{ 1,2,3,4,5,6,7 \\right \\}$\n",
    "\n",
    "$\\therefore A \\cup B = A\\cup  \\left ( B\\cap A{}' \\right )$\n",
    "\n",
    "- $(\\textbf{U}_{i=1}^{\\infty} A_{i}^{c})^{c}$ = $\\cap_{i=1}^{\\infty}A_{i}$\n",
    "- |A $\\cup$ B| = |A| + |B| - |A $\\cap$ B|\n",
    "\n",
    "$\\\\7=5+3-1$\n",
    "\n",
    "$7=7$\n",
    "\n",
    "$\\therefore \\left | A \\cup B \\right |=\\left | A \\right |+\\left | B \\right |-\\left | A\\cap B \\right |$\n"
   ]
  },
  {
   "cell_type": "markdown",
   "metadata": {},
   "source": [
    "# 2. Sets and Subsets\n",
    "---\n",
    "#### Use Latex Programming to show your solutions.\n",
    "- **A**: If A = {2,3,4,5}, and B = {$x \\in \\mathbb{N} | x \\ is \\ even$}. Is A $\\subset$ B? Show a proof.\n",
    "- **B**: Let sets $\\textbf{A} = \\{x|x \\in \\mathbb{Z}, 0 \\leq x \\leq 9\\},\n",
    "\\textbf{B} = \\{ 2,4,6,8\\},\n",
    "\\ and \\ \n",
    "\\textbf{C}  = \\{ 1,3,5,7,9\\}\n",
    "\\ and \\ \\textbf{D}  = \\{ 3,4,5\\}$\n",
    "Find a set $\\textbf{X}$ which will satisfy the following conditions:\n",
    "    1. $\\textbf{X} \\ and \\ \\textbf{B}$ are disjoint.\n",
    "    2. $\\textbf{X} \\subseteq \\textbf{D}$ but $\\textbf{X} \\nsubseteq \\textbf{B}$.\n",
    "    3. $\\textbf{X} \\subseteq \\textbf{A}$ but $\\textbf{X} \\not\\subset \\textbf{C}$.\n",
    "\n",
    "**Answer A**: If B contains all even natural numbers, A cannot be a subset of B since iA contains odd numbres. For example, 3 in set A is not an even number and therefore cannot be an element of B.\n",
    "\n",
    "$A \\cap B \\subset B $ but $A$ is not $\\subset B$\n"
   ]
  },
  {
   "cell_type": "code",
   "execution_count": 1,
   "metadata": {},
   "outputs": [
    {
     "data": {
      "image/png": "[encoded data removed]",
      "text/plain": [
       "<Figure size 640x480 with 1 Axes>"
      ]
     },
     "metadata": {},
     "output_type": "display_data"
    }
   ],
   "source": [
    "# %load assets/sets_subsets.py\n",
    "from matplotlib_venn import venn2\n",
    "from matplotlib import pyplot as plt\n",
    "\n",
    "set_A = {\"2\",\"3\",\"4\",\"5\"}\n",
    "set_B = {\"2\",\"4\",\"6\",\"8\",\"10\"} #limiting to 10 here for the sake of demonstration\n",
    "\n",
    "\n",
    "venn = venn2([set_A,set_B], set_labels=('A', 'B'))\n",
    "venn.get_label_by_id(\"10\").set_text('\\n'.join(set_A - set_B))\n",
    "venn.get_label_by_id(\"11\").set_text('\\n'.join(set_A & set_B))\n",
    "venn.get_label_by_id(\"01\").set_text('\\n'.join(set_B - set_A))\n",
    "\n",
    "plt.title(\"Sets A and B\")\n",
    "plt.show()"
   ]
  },
  {
   "cell_type": "markdown",
   "metadata": {},
   "source": [
    "**Answer B:** \n",
    "1. $\\textbf{X} \\ and \\ \\textbf{B}$ are disjoint.\n",
    "$\\\\ X = \\left \\{ 0,1,3,5,7,9 \\right \\}$\n",
    "\n",
    "$X \\cap B = \\left \\{ 0,1,3,5,7,9 \\right \\} \\cap B = \\left \\{ 2,4,6,8 \\right \\} = \\emptyset $\n",
    "\n",
    "2. $\\textbf{X} \\subseteq \\textbf{D}$ but $\\textbf{X} \\nsubseteq \\textbf{B}$.\n",
    "$\\\\ X = \\left \\{ 3,5 \\right \\} $\n",
    "\n",
    "3. $\\textbf{X} \\subseteq \\textbf{A}$ but $\\textbf{X} \\not\\subset \\textbf{C}$.\n",
    "$\\\\ X = \\left \\{ 0,2,4,6,8 \\right \\}$"
   ]
  },
  {
   "cell_type": "markdown",
   "metadata": {},
   "source": [
    "# 3. Set Operations\n",
    "---\n",
    "#### Use this website https://learnpython.com/blog/set-operations-in-python/ to learn about set Operations in Python.\n",
    "##### 1. First solve the problems manually, use Latex programming to show your manual solutions.\n",
    "\n",
    "##### 2. Second, solve the problem using python. Show your codes for the pythonic solutions.\n",
    "##### Hint: You know your solutions is right if your manual solution is equivalent to your pythonic solution.\n",
    "\n",
    "Given:<br>\n",
    "$\\textbf{U} = \\{1,2,3,4,5\\}$<br>\n",
    "$\\textbf{A} = \\{1,2,3,4,5\\}$<br>\n",
    "$\\textbf{B} = \\{4,5,6,7\\}$<br>\n",
    "$\\textbf{C} = \\{5,6,7,8,9\\}$<br>\n",
    "$\\textbf{D} = \\{1,3,5,7,9\\}$<br>\n",
    "$\\textbf{E} = \\{2,4,6,8\\}$<br>\n",
    "$\\textbf{F} = \\{1,5,9\\}$<br>\n",
    "- $\\textbf{C} \\oplus \\textbf{D}$\n",
    "$\\\\C = \\left \\{ 5,8,6,7,9 \\right \\}\\\\\n",
    "D = \\left \\{ 1,3,5,7,9 \\right \\}\\\\\n",
    "C \\oplus D = \\left ( C \\cup D \\right ) \\setminus \\left ( C \\cap D \\right )\\\\\n",
    "C \\oplus D = \\left ( C \\setminus D \\right ) \\cup \\left ( D \\setminus C \\right )\\\\\n",
    "C \\oplus D = \\left \\{ 1,3,6,8 \\right \\}$\n",
    "- $\\textbf{A} \\backslash \\textbf{B}$\n",
    "$\\\\A = \\left \\{ 1,2,3,4,5 \\right \\}\\\\\n",
    "B = \\left \\{ 4,5,6,7,8 \\right \\} \\\\\n",
    "A - B = \\left \\{ 1,2,3 \\right \\}$\n",
    "- $\\textbf{B} \\backslash \\textbf{A}$\n",
    "$\\\\A = \\left \\{ 1,2,3,4,5 \\right \\}\\\\\n",
    "B = \\left \\{ 4,5,6,7 \\right \\} \\\\\n",
    "B - A = \\left \\{ 6,7 \\right \\}$\n",
    "- $\\textbf{E} \\oplus \\textbf{F}$\n",
    "$\\\\E = \\left \\{ 2,4,6,8 \\right \\}\\\\\n",
    "F = \\left \\{ 1,5,9 \\right \\}\\\\\n",
    "E \\oplus F = \\left ( E \\cup F \\right ) \\setminus \\left ( E \\cap F \\right )\\\\\n",
    "E \\oplus F = \\left ( E \\setminus F \\right ) \\cup \\left ( F \\setminus E \\right )\\\\\n",
    "E \\oplus F = \\left \\{ 1,2,4,5,6,8,9 \\right \\}$"
   ]
  },
  {
   "cell_type": "code",
   "execution_count": 2,
   "metadata": {},
   "outputs": [
    {
     "name": "stdout",
     "output_type": "stream",
     "text": [
      "C⊕D =  {8, 1, 3, 6}\n",
      "A\\B =  {1, 2, 3, 6, 7}\n",
      "B\\A =  {1, 2, 3, 6, 7}\n",
      "E⊕F =  {1, 2, 4, 5, 6, 8, 9}\n"
     ]
    }
   ],
   "source": [
    "# %load assets/set_operations.py\n",
    "#Create functions to find complements, disjoint unions, and symmetric differences\n",
    "def complement(A):\n",
    "    return universal.difference(A)\n",
    "\n",
    "def disjointUnion(A,B):\n",
    "    return (A.union(B)).difference(A.intersection(B))\n",
    "\n",
    "def symmetricDifference(A,B):\n",
    "    return A.union(complement(B)).difference(A.intersection(B))\n",
    "\n",
    "\n",
    "#define sets\n",
    "universal = {1,2,3,4,5,6,7,8,9}\n",
    "U = {1,2,3,4,5}\n",
    "A = {1,2,3,4,5}\n",
    "B = {4,5,6,7}\n",
    "C = {5,6,7,8,9}\n",
    "D = {1,3,5,7,9}\n",
    "E = {2,4,6,8}\n",
    "F = {1,5,9}\n",
    "\n",
    "# print results using functions by passing sets as parameters\n",
    "print(\"C⊕D = \", disjointUnion(C,D))\n",
    "print(\"A\\B = \", disjointUnion(A,B))\n",
    "print(\"B\\A = \", disjointUnion(B,A))\n",
    "print(\"E⊕F = \", disjointUnion(E,F))"
   ]
  },
  {
   "cell_type": "markdown",
   "metadata": {},
   "source": [
    "# 4. Finite Sets and The Counting Principles\n",
    "---\n",
    "\n",
    "In a Survey of 120 People, it was found that:\n",
    "- 65 read Newsweek Magazine\n",
    "- 45 read Times Magazine\n",
    "- 42 read Fortune Magazine\n",
    "- 20 read Both Newsweek and Time\n",
    "- 25 read both Newsweek and Fortune\n",
    "- 15 read both Time and Fortune\n",
    "- 8 read all three magazines\n",
    "With these information do the following:<br>\n",
    "1. Draw the venn diagram using python.\n",
    "2. Find the number of people who read at $\\textbf{\"least one\"}$ of the three magazines.\n",
    "3. Find the number of people who read exactly one magazine.\n",
    "<br>\n",
    "<br>\n",
    "In a survey of 25 new cars being sold at a local auto dealer was conducted to see which of the three popular options: air-conditioning, denoted as A; radio, denoted as R; and power windows, denoted as W were installed. The survey found that:\n",
    "- 15 had A. HINT: The condition said $\\textbf{\"had an A\"}$  <font color='red'>$\\textbf{ AND NOT}$ <font color='black'>$\\textbf{\"had an A only\"}$\n",
    "- 12 had R. HINT: The condition said $\\textbf{\"had a R\"}$  <font color='red'>$\\textbf{ AND NOT}$ <font color='black'>$\\textbf{\"had a R only\"}$\n",
    "- 11 had W. HINT: The condition said $\\textbf{\"had a W\"}$  <font color='red'>$\\textbf{ AND NOT}$ <font color='black'>$\\textbf{\"had a W only\"}$\n",
    "- 5 had A and W.\n",
    "- 9 had A and R.\n",
    "- 4 had R and W.\n",
    "- Only 3 hace the three options.\n",
    "With these information do the following:<br>\n",
    "1. Draw the venn diagram using python.<br>\n",
    "2. Find the number of cars with W only.<br>\n",
    "3. Find the number of cars with A only.<br>\n",
    "4. Find the number of cars with R only.<br>\n",
    "5. Find the number of cars with both R and W but not A.<br>\n",
    "6. Find the number of cars with both A and R but not W.<br>\n",
    "7. Find the number of cars with only one of the options.<br>\n",
    "8. Find the number of cars with at least one option.<br>\n",
    "9. Find the number of cars with none of the Options.<br>"
   ]
  },
  {
   "cell_type": "code",
   "execution_count": 3,
   "metadata": {},
   "outputs": [
    {
     "data": {
      "image/png": "[encoded data removed]",
      "text/plain": [
       "<Figure size 640x480 with 1 Axes>"
      ]
     },
     "metadata": {},
     "output_type": "display_data"
    }
   ],
   "source": [
    "# %load assets/cars.py\n",
    "from matplotlib_venn import venn3\n",
    "from matplotlib import pyplot as plt\n",
    "\n",
    "set_A = 15\n",
    "set_R = 12\n",
    "set_W = 11\n",
    "set_AW = 5\n",
    "set_AR = 9\n",
    "set_RW = 4\n",
    "set_ARW = 3\n",
    "\n",
    "venn = venn3(subsets=(set_A - set_AW - set_AR + set_ARW, set_R - set_AR - set_RW + set_ARW, set_AR - set_ARW,\n",
    "                      set_W - set_AW - set_RW + set_ARW, set_RW - set_ARW, set_AW - set_ARW, set_ARW),\n",
    "             set_labels=('A', 'R', 'W'))\n",
    "\n",
    "plt.title(\"Cars Survey\")\n",
    "plt.show()"
   ]
  }
 ],
 "metadata": {
  "kernelspec": {
   "display_name": "Python 3",
   "language": "python",
   "name": "python3"
  },
  "language_info": {
   "codemirror_mode": {
    "name": "ipython",
    "version": 3
   },
   "file_extension": ".py",
   "mimetype": "text/x-python",
   "name": "python",
   "nbconvert_exporter": "python",
   "pygments_lexer": "ipython3",
   "version": "3.11.5"
  },
  "orig_nbformat": 4
 },
 "nbformat": 4,
 "nbformat_minor": 2
}
